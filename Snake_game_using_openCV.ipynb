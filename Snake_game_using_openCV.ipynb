{
 "cells": [
  {
   "cell_type": "code",
   "execution_count": 33,
   "metadata": {},
   "outputs": [],
   "source": [
    "import numpy as np\n",
    "import cv2\n",
    "import time\n",
    "import random"
   ]
  },
  {
   "cell_type": "code",
   "execution_count": 34,
   "metadata": {},
   "outputs": [],
   "source": [
    "def collision_with_boundaries(snake_head):\n",
    "    if snake_head[0]>=500 or snake_head[0]<=0 or snake_head[1]>=500 or snake_head[1]<=0:\n",
    "        return 1\n",
    "    else:\n",
    "        return 0"
   ]
  },
  {
   "cell_type": "code",
   "execution_count": 35,
   "metadata": {},
   "outputs": [],
   "source": [
    "def collision_with_self(snake_position):\n",
    "    snake_head = snake_position[0]\n",
    "    if snake_head in snake_position[1:]:\n",
    "        return 1\n",
    "    else:\n",
    "        return 0"
   ]
  },
  {
   "cell_type": "code",
   "execution_count": 36,
   "metadata": {},
   "outputs": [],
   "source": [
    "def collision_with_apple(apple_position,score):\n",
    "    apple_position = [random.randrange(1,50)*10,random.randrange(1,50)*10]\n",
    "    score += 1\n",
    "    return apple_position,score"
   ]
  },
  {
   "cell_type": "code",
   "execution_count": 37,
   "metadata": {},
   "outputs": [],
   "source": [
    "img = np.zeros((500,500,3),dtype=\"uint8\") # each 500 steps has 500 rows and 3 column"
   ]
  },
  {
   "cell_type": "code",
   "execution_count": 38,
   "metadata": {},
   "outputs": [
    {
     "data": {
      "text/plain": [
       "(500, 3)"
      ]
     },
     "execution_count": 38,
     "metadata": {},
     "output_type": "execute_result"
    }
   ],
   "source": [
    "img[0].shape"
   ]
  },
  {
   "cell_type": "code",
   "execution_count": 39,
   "metadata": {},
   "outputs": [
    {
     "data": {
      "text/plain": [
       "array([[0, 0, 0],\n",
       "       [0, 0, 0],\n",
       "       [0, 0, 0],\n",
       "       ...,\n",
       "       [0, 0, 0],\n",
       "       [0, 0, 0],\n",
       "       [0, 0, 0]], dtype=uint8)"
      ]
     },
     "execution_count": 39,
     "metadata": {},
     "output_type": "execute_result"
    }
   ],
   "source": [
    "img[0]"
   ]
  },
  {
   "cell_type": "code",
   "execution_count": 44,
   "metadata": {},
   "outputs": [],
   "source": [
    "snake_position = [[250,250],[240,250],[230,250]]\n",
    "apple_position = [random.randrange(1,50)*10, random.randrange(1,50)*10]\n",
    "score = 0 \n",
    "prev_button_dir = 1\n",
    "button_dir = 1\n",
    "snake_head =  [250,250]\n",
    "\n",
    "while True:\n",
    "    cv2.imshow(\"a\",img)\n",
    "    cv2.waitKey(1)\n",
    "    img = np.zeros((500,500,3),dtype=\"uint8\")\n",
    "    cv2.rectangle(img,(apple_position[0],apple_position[1]),(apple_position[0]+10,apple_position[1]+10),(0,0,255),3)\n",
    "    for position in snake_position:\n",
    "        cv2.rectangle(img,(position[0],position[1]),(position[0]+10,position[1]+10),(0,255,0),3)\n",
    "    t_end = time.time() + 0.2\n",
    "    k = -1\n",
    "    while time.time() <t_end:\n",
    "        if k == -1:\n",
    "            k = cv2.waitKey(125)\n",
    "        else:\n",
    "            continue\n",
    "    if k == ord(\"a\") and prev_button_dir != 1:\n",
    "        button_dir = 0\n",
    "    elif k == ord(\"d\") and prev_button_dir != 0:\n",
    "        button_dir = 1\n",
    "    elif k == ord(\"w\") and prev_button_dir != 2:\n",
    "        button_dir = 3\n",
    "    elif k == ord('s') and prev_button_dir != 3:\n",
    "        button_dir = 2\n",
    "    elif k == ord(\"q\"):\n",
    "        break\n",
    "    else:\n",
    "        button_dir = button_dir\n",
    "    prev_button_dir = button_dir\n",
    "    \n",
    "    if button_dir == 1:\n",
    "        snake_head[0] += 10\n",
    "    elif button_dir == 0:\n",
    "        snake_head[0] -= 10\n",
    "    elif button_dir == 2:\n",
    "        snake_head[1] += 10\n",
    "    elif button_dir == 3:\n",
    "        snake_head[1] -= 10\n",
    "    \n",
    "    if snake_head == apple_position:\n",
    "        apple_position, score = collision_with_apple(apple_position,score)\n",
    "        snake_position.insert(0,list(snake_head))\n",
    "    else:\n",
    "        snake_position.insert(0,list(snake_head))\n",
    "        snake_position.pop()\n",
    "    \n",
    "    if collision_with_boundaries(snake_head) == 1 or collision_with_self(snake_position) == 1:\n",
    "        font = cv2.FONT_HERSHEY_SIMPLEX\n",
    "        img = np.zeros((500,500,3),dtype=\"uint8\")\n",
    "        cv2.putText(img,\"Your Score is {}\".format(score),(140,250),font,1,(255,255,255),2,cv2.LINE_AA)\n",
    "        cv2.imshow(\"a\",img)\n",
    "        \n",
    "        cv2.waitKey(0)\n",
    "        cv2.imwrite('D:/downloads/ii.jpg',img)\n",
    "        break\n",
    "\n",
    "cv2.destroyAllWindows()"
   ]
  },
  {
   "cell_type": "code",
   "execution_count": null,
   "metadata": {},
   "outputs": [],
   "source": []
  }
 ],
 "metadata": {
  "kernelspec": {
   "display_name": "Python 3",
   "language": "python",
   "name": "python3"
  },
  "language_info": {
   "codemirror_mode": {
    "name": "ipython",
    "version": 3
   },
   "file_extension": ".py",
   "mimetype": "text/x-python",
   "name": "python",
   "nbconvert_exporter": "python",
   "pygments_lexer": "ipython3",
   "version": "3.7.3"
  }
 },
 "nbformat": 4,
 "nbformat_minor": 2
}
